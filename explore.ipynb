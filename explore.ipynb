{
 "cells": [
  {
   "cell_type": "code",
   "execution_count": 3,
   "id": "15339e0b-2635-45a2-9dbb-99bd2dd16218",
   "metadata": {},
   "outputs": [],
   "source": [
    "import os\n",
    "from glob import glob\n",
    "\n",
    "from pydub import AudioSegment\n",
    "from pydub.playback import play"
   ]
  },
  {
   "cell_type": "code",
   "execution_count": 4,
   "id": "2b12a195-55a0-47b4-bed3-49e2fb16ecec",
   "metadata": {},
   "outputs": [],
   "source": [
    "source_dir = os.path.join('./animal_meeting_1509_librivox')"
   ]
  },
  {
   "cell_type": "code",
   "execution_count": 5,
   "id": "e40e4064-3a9a-4380-af9d-2ba9ba7c2cbd",
   "metadata": {},
   "outputs": [
    {
     "name": "stdout",
     "output_type": "stream",
     "text": [
      "['./animal_meeting_1509_librivox/animalmeeting_01_ahn_64kb.mp3', './animal_meeting_1509_librivox/animalmeeting_02_ahn_64kb.mp3', './animal_meeting_1509_librivox/animalmeeting_03_ahn_64kb.mp3', './animal_meeting_1509_librivox/animalmeeting_04_ahn_64kb.mp3', './animal_meeting_1509_librivox/animalmeeting_05_ahn_64kb.mp3', './animal_meeting_1509_librivox/animalmeeting_06_ahn_64kb.mp3']\n"
     ]
    }
   ],
   "source": [
    "sources = sorted(glob(os.path.join(source_dir, '*')))\n",
    "print(sources)"
   ]
  },
  {
   "cell_type": "markdown",
   "id": "760f5526-cf58-4f76-a0a4-787e5399ce95",
   "metadata": {},
   "source": [
    "# speed up"
   ]
  },
  {
   "cell_type": "code",
   "execution_count": 6,
   "id": "7fb068ce-69d7-4eb0-88bf-5311c59ac747",
   "metadata": {},
   "outputs": [],
   "source": [
    "audio = AudioSegment.from_file(sources[0])"
   ]
  },
  {
   "cell_type": "code",
   "execution_count": 7,
   "id": "977a88c8-bad4-4026-ab39-3d6700ca13f0",
   "metadata": {},
   "outputs": [
    {
     "name": "stdout",
     "output_type": "stream",
     "text": [
      "31183\n"
     ]
    }
   ],
   "source": [
    "demo_audio = audio[:30000]\n",
    "\n",
    "# Now we can apply the same process as before:\n",
    "octaves = 0.5  # This time we'll only increase the pitch by a half octave\n",
    "new_sample_rate = int(demo_audio.frame_rate * (2.0 ** octaves))\n",
    "print(new_sample_rate)"
   ]
  },
  {
   "cell_type": "code",
   "execution_count": 8,
   "id": "15c786f6-af5d-455c-8f27-35e679eb0f8d",
   "metadata": {},
   "outputs": [],
   "source": [
    "# Make sure the new sample rate is one of the standard rates\n",
    "# Common standard sample rates include 8000, 11025, 16000, 22050, 32000, 44100, and 48000 Hz.\n",
    "standard_rates = [8000, 11025, 16000, 22050, 32000, 44100, 48000]\n",
    "closest_rate = min(standard_rates, key=lambda x: abs(x - new_sample_rate))\n",
    "if new_sample_rate not in standard_rates:\n",
    "    new_sample_rate = closest_rate"
   ]
  },
  {
   "cell_type": "code",
   "execution_count": 9,
   "id": "bf4c7c3c-0573-4e1a-8d73-1e619a5403ba",
   "metadata": {},
   "outputs": [],
   "source": [
    "high_pitch_audio = demo_audio._spawn(demo_audio.raw_data, overrides={'frame_rate': new_sample_rate})\n",
    "fast_audio = high_pitch_audio.speedup(playback_speed=2)"
   ]
  },
  {
   "cell_type": "code",
   "execution_count": 12,
   "id": "b4258736-eea1-41f0-9970-2cc659c9f2df",
   "metadata": {},
   "outputs": [],
   "source": [
    "play(demo_audio)"
   ]
  },
  {
   "cell_type": "code",
   "execution_count": 13,
   "id": "b2b7c5f4-69d4-4b9c-b90a-63944b44329b",
   "metadata": {},
   "outputs": [],
   "source": [
    "play(fast_audio)"
   ]
  },
  {
   "cell_type": "markdown",
   "id": "fe2c9a4d-0b92-46d6-b124-b529d930447c",
   "metadata": {},
   "source": [
    "# librosa"
   ]
  },
  {
   "cell_type": "code",
   "execution_count": 1,
   "id": "23ec2dda-3777-4c15-a333-b1209a605fa6",
   "metadata": {},
   "outputs": [],
   "source": [
    "import librosa\n",
    "import soundfile as sf"
   ]
  },
  {
   "cell_type": "code",
   "execution_count": 2,
   "id": "138eb8e9-bdce-4bd7-adfd-e4eb0e84a86b",
   "metadata": {},
   "outputs": [
    {
     "ename": "NameError",
     "evalue": "name 'sources' is not defined",
     "output_type": "error",
     "traceback": [
      "\u001b[0;31m---------------------------------------------------------------------------\u001b[0m",
      "\u001b[0;31mNameError\u001b[0m                                 Traceback (most recent call last)",
      "Cell \u001b[0;32mIn[2], line 2\u001b[0m\n\u001b[1;32m      1\u001b[0m \u001b[38;5;66;03m# Load the audio file\u001b[39;00m\n\u001b[0;32m----> 2\u001b[0m y, sr \u001b[38;5;241m=\u001b[39m librosa\u001b[38;5;241m.\u001b[39mload(\u001b[43msources\u001b[49m[\u001b[38;5;241m0\u001b[39m])\n",
      "\u001b[0;31mNameError\u001b[0m: name 'sources' is not defined"
     ]
    }
   ],
   "source": [
    "# Load the audio file\n",
    "y, sr = librosa.load(sources[0])"
   ]
  },
  {
   "cell_type": "code",
   "execution_count": null,
   "id": "c9448bcc-bf35-4a65-a6f2-521329782d91",
   "metadata": {},
   "outputs": [],
   "source": [
    "n_steps = 6  # Positive values raise the pitch, negative values lower it.\n",
    "y_shifted = librosa.effects.pitch_shift(y, sr=sr, n_steps=n_steps)"
   ]
  },
  {
   "cell_type": "code",
   "execution_count": null,
   "id": "66687a21-8986-4bc3-8d30-5db14d48e0e2",
   "metadata": {},
   "outputs": [],
   "source": [
    "shifted_file = \"pitch_shifted_audio.wav\"\n",
    "sf.write(shifted_file, y_shifted, sr)"
   ]
  },
  {
   "cell_type": "code",
   "execution_count": 32,
   "id": "1dfb6123-f392-497f-bb15-9d8153533d85",
   "metadata": {},
   "outputs": [],
   "source": [
    "audio = AudioSegment.from_file(shifted_file)"
   ]
  },
  {
   "cell_type": "code",
   "execution_count": 33,
   "id": "2d2165c0-c619-4586-869f-fa43bb69b325",
   "metadata": {},
   "outputs": [],
   "source": [
    "demo_audio = audio[:30000]\n",
    "play(demo_audio)"
   ]
  },
  {
   "cell_type": "markdown",
   "id": "77b73f55-3942-4466-addd-ae55df20d004",
   "metadata": {},
   "source": [
    "# ..."
   ]
  },
  {
   "cell_type": "code",
   "execution_count": 14,
   "id": "6821a90a-575f-48fc-b637-e59d82041d98",
   "metadata": {},
   "outputs": [],
   "source": [
    "# Shift the pitch up by 6 semitones (half an octave)\n",
    "octaves = 6 / 12  # semitones to octaves\n",
    "new_sample_rate = int(audio.frame_rate * (2.0 ** octaves))"
   ]
  },
  {
   "cell_type": "code",
   "execution_count": 15,
   "id": "7748a29a-509a-4794-8c43-01428e61e31a",
   "metadata": {},
   "outputs": [],
   "source": [
    "# Change the audio sample rate, this also changes the pitch\n",
    "chipmunk = audio._spawn(audio.raw_data, overrides={'frame_rate': new_sample_rate})"
   ]
  },
  {
   "cell_type": "code",
   "execution_count": 16,
   "id": "a8acb8e1-0b91-4879-bc93-ed7da6ed8a8c",
   "metadata": {},
   "outputs": [],
   "source": [
    "# Calculate the new duration\n",
    "new_duration = chipmunk.duration_seconds / (2.0 ** octaves)"
   ]
  },
  {
   "cell_type": "code",
   "execution_count": 17,
   "id": "f5c1c3ee-2d0b-4e37-8572-79adcb94ebd5",
   "metadata": {},
   "outputs": [],
   "source": [
    "import subprocess"
   ]
  },
  {
   "cell_type": "code",
   "execution_count": 18,
   "id": "950485c0-5a69-43cd-82e3-3b379d660919",
   "metadata": {},
   "outputs": [
    {
     "name": "stderr",
     "output_type": "stream",
     "text": [
      "\n",
      "   SoundStretch v2.3.2 -  Copyright (c) Olli Parviainen\n",
      "=========================================================\n",
      "author e-mail: <oparviai@iki.fi> - WWW: http://www.surina.net/soundtouch\n",
      "\n",
      "This program is subject to (L)GPL license. Run \"soundstretch -license\" for\n",
      "more information.\n",
      "\n",
      "Uses 32bit floating point sample type in processing.\n",
      "\n",
      "Processing the file with the following changes:\n",
      "  tempo change = +41.4214 %\n",
      "  pitch change = +0 semitones\n",
      "  rate change  = +0 %\n",
      "\n",
      "Working...Done!\n"
     ]
    }
   ],
   "source": [
    "temp_file = \"temp_pitch_shifted.wav\"\n",
    "chipmunk.export(temp_file, format=\"wav\")\n",
    "\n",
    "# Use the external soundstretch command to adjust the speed to the original\n",
    "stretched_file = \"stretched_audio.wav\"\n",
    "cmd = f\"soundstretch {temp_file} {stretched_file} -tempo={(2.0 ** octaves - 1) * 100}\"\n",
    "\n",
    "# Run the command\n",
    "subprocess.run(cmd, shell=True)\n",
    "\n",
    "# Clean up the temporary file\n",
    "os.remove(temp_file)"
   ]
  },
  {
   "cell_type": "code",
   "execution_count": 19,
   "id": "9d8ba769-86b2-48fb-8c34-cd8d08c8bb98",
   "metadata": {},
   "outputs": [],
   "source": [
    "# Now load the stretched audio\n",
    "stretched_chipmunk = AudioSegment.from_file(stretched_file)"
   ]
  },
  {
   "cell_type": "code",
   "execution_count": 20,
   "id": "30d05440-e736-470b-a5ea-96d26d38c62d",
   "metadata": {},
   "outputs": [
    {
     "name": "stdout",
     "output_type": "stream",
     "text": [
      "31183\n"
     ]
    }
   ],
   "source": [
    "print(stretched_chipmunk.frame_rate)"
   ]
  },
  {
   "cell_type": "code",
   "execution_count": 21,
   "id": "dd0e35c0-a29b-4ca3-89e7-5068a883e0da",
   "metadata": {},
   "outputs": [],
   "source": [
    "# Convert to a standard sample rate if necessary\n",
    "standard_sample_rate = 44100\n",
    "if stretched_chipmunk.frame_rate != standard_sample_rate:\n",
    "    stretched_chipmunk = stretched_chipmunk.set_frame_rate(standard_sample_rate)"
   ]
  },
  {
   "cell_type": "code",
   "execution_count": 44,
   "id": "501ee078-ca37-4d8e-94eb-04c165acbcc4",
   "metadata": {},
   "outputs": [],
   "source": [
    "play(demo_audio)"
   ]
  },
  {
   "cell_type": "code",
   "execution_count": 22,
   "id": "977ffb41-3497-48b5-a246-b8476b20b9d8",
   "metadata": {},
   "outputs": [],
   "source": [
    "# Now try playing it again\n",
    "play(stretched_chipmunk)"
   ]
  },
  {
   "cell_type": "markdown",
   "id": "71d9af8e-2cf9-4fb5-8147-e8510d0cf469",
   "metadata": {},
   "source": [
    "# soundstretch pitch and tempo"
   ]
  },
  {
   "cell_type": "code",
   "execution_count": 24,
   "id": "07678bcd-be1d-45c3-a584-8665cd28424e",
   "metadata": {},
   "outputs": [
    {
     "data": {
      "text/plain": [
       "<_io.BufferedRandom name='input.wav'>"
      ]
     },
     "execution_count": 24,
     "metadata": {},
     "output_type": "execute_result"
    }
   ],
   "source": [
    "# Replace 'input.mp3' with your mp3 file path\n",
    "input_mp3 = sources[0]\n",
    "original_wav = 'input.wav'  # Output file name\n",
    "\n",
    "# Load MP3 file\n",
    "audio_segment = AudioSegment.from_mp3(input_mp3)\n",
    "\n",
    "# Export as WAV\n",
    "audio_segment.export(original_wav, format=\"wav\")"
   ]
  },
  {
   "cell_type": "code",
   "execution_count": 25,
   "id": "622b5e98-e654-42fd-8c59-2123334b4228",
   "metadata": {},
   "outputs": [
    {
     "name": "stdout",
     "output_type": "stream",
     "text": [
      "\n",
      "\n",
      "   SoundStretch v2.3.2 -  Copyright (c) Olli Parviainen\n",
      "=========================================================\n",
      "author e-mail: <oparviai@iki.fi> - WWW: http://www.surina.net/soundtouch\n",
      "\n",
      "This program is subject to (L)GPL license. Run \"soundstretch -license\" for\n",
      "more information.\n",
      "\n",
      "Uses 32bit floating point sample type in processing.\n",
      "\n",
      "Processing the file with the following changes:\n",
      "  tempo change = +0 %\n",
      "  pitch change = +12 semitones\n",
      "  rate change  = +0 %\n",
      "\n",
      "Working...Done!\n",
      "\n"
     ]
    }
   ],
   "source": [
    "temp_file = \"output_pitch_shifted.wav\"\n",
    "# Run the pitch shift command\n",
    "result = subprocess.run(\n",
    "    [\"soundstretch\", original_wav, temp_file, \"-pitch=12\"],\n",
    "    capture_output=True,\n",
    "    text=True\n",
    ")\n",
    "print(result.stdout)\n",
    "print(result.stderr)"
   ]
  },
  {
   "cell_type": "code",
   "execution_count": 26,
   "id": "57df6319-02cc-4c86-bba2-126a548b68fb",
   "metadata": {},
   "outputs": [
    {
     "name": "stdout",
     "output_type": "stream",
     "text": [
      "\n",
      "\n",
      "   SoundStretch v2.3.2 -  Copyright (c) Olli Parviainen\n",
      "=========================================================\n",
      "author e-mail: <oparviai@iki.fi> - WWW: http://www.surina.net/soundtouch\n",
      "\n",
      "This program is subject to (L)GPL license. Run \"soundstretch -license\" for\n",
      "more information.\n",
      "\n",
      "Uses 32bit floating point sample type in processing.\n",
      "\n",
      "Processing the file with the following changes:\n",
      "  tempo change = -50 %\n",
      "  pitch change = +0 semitones\n",
      "  rate change  = +0 %\n",
      "\n",
      "Working...Done!\n",
      "\n"
     ]
    }
   ],
   "source": [
    "output_file = \"output_final.wav\"\n",
    "# Run the tempo adjustment command\n",
    "result = subprocess.run(\n",
    "    [\"soundstretch\", temp_file, output_file, \"-tempo=-50\"],\n",
    "    capture_output=True,\n",
    "    text=True\n",
    ")\n",
    "print(result.stdout)\n",
    "print(result.stderr)\n",
    "\n",
    "# Load the final audio for playback or further processing\n",
    "stretched_chipmunk = AudioSegment.from_file(output_file)"
   ]
  },
  {
   "cell_type": "code",
   "execution_count": 27,
   "id": "4b7c0427-a656-4669-8453-fef4b2451629",
   "metadata": {},
   "outputs": [],
   "source": [
    "# Attempt to play the adjusted audio\n",
    "play(stretched_chipmunk)"
   ]
  },
  {
   "cell_type": "code",
   "execution_count": 29,
   "id": "baec173f-6b9f-4e71-9523-15f92fed8d56",
   "metadata": {},
   "outputs": [],
   "source": [
    "pitch_chipmunk = AudioSegment.from_file(temp_file)\n",
    "play(pitch_chipmunk)"
   ]
  },
  {
   "cell_type": "code",
   "execution_count": 28,
   "id": "440022fe-d26c-428b-81b8-78779ef8c59b",
   "metadata": {},
   "outputs": [],
   "source": [
    "play(demo_audio)"
   ]
  }
 ],
 "metadata": {
  "kernelspec": {
   "display_name": "animal_crossing",
   "language": "python",
   "name": "animal_crossing"
  },
  "language_info": {
   "codemirror_mode": {
    "name": "ipython",
    "version": 3
   },
   "file_extension": ".py",
   "mimetype": "text/x-python",
   "name": "python",
   "nbconvert_exporter": "python",
   "pygments_lexer": "ipython3",
   "version": "3.10.13"
  }
 },
 "nbformat": 4,
 "nbformat_minor": 5
}
